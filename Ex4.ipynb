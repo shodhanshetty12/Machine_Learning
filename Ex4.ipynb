{
 "cells": [
  {
   "cell_type": "code",
   "execution_count": null,
   "id": "6efa9293-54f5-4d9f-8afb-b5bf8c146e46",
   "metadata": {},
   "outputs": [],
   "source": [
    "import pandas as pd\n",
    "def find_s_algorithm(file_path):\n",
    "    data = pd.read_csv(file_path)\n",
    "    print(\"Training data:\")\n",
    "    print(data)\n",
    "    attributes = data.columns[:-1] \n",
    "    class_label = data.columns[-1]  \n",
    "    hypothesis = None\n",
    "    for index, row in data.iterrows():\n",
    "        if row[class_label] == 'Yes':\n",
    "            if hypothesis is None:\n",
    "                hypothesis = list(row[attributes])\n",
    "            else:\n",
    "                for i in range(len(attributes)):\n",
    "                    if hypothesis[i] != row[attributes[i]] and hypothesis[i] != '?':\n",
    "                        hypothesis[i] = '?'\n",
    "    return hypothesis\n",
    "file_path = r'C:\\Users\\Student\\Downloads\\training_data.csv'\n",
    "hypothesis = find_s_algorithm(file_path)\n",
    "print(\"\\nThe final hypothesis is:\", hypothesis)"
   ]
  }
 ],
 "metadata": {
  "kernelspec": {
   "display_name": "Python [conda env:base] *",
   "language": "python",
   "name": "conda-base-py"
  },
  "language_info": {
   "codemirror_mode": {
    "name": "ipython",
    "version": 3
   },
   "file_extension": ".py",
   "mimetype": "text/x-python",
   "name": "python",
   "nbconvert_exporter": "python",
   "pygments_lexer": "ipython3",
   "version": "3.12.7"
  }
 },
 "nbformat": 4,
 "nbformat_minor": 5
}
